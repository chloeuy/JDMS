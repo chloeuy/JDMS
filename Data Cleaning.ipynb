{
 "cells": [
  {
   "cell_type": "code",
   "execution_count": 1,
   "metadata": {},
   "outputs": [],
   "source": [
    "import pandas as pd\n",
    "import warnings\n",
    "warnings.filterwarnings('ignore')"
   ]
  },
  {
   "cell_type": "code",
   "execution_count": 2,
   "metadata": {},
   "outputs": [
    {
     "data": {
      "text/html": [
       "<div>\n",
       "<style scoped>\n",
       "    .dataframe tbody tr th:only-of-type {\n",
       "        vertical-align: middle;\n",
       "    }\n",
       "\n",
       "    .dataframe tbody tr th {\n",
       "        vertical-align: top;\n",
       "    }\n",
       "\n",
       "    .dataframe thead th {\n",
       "        text-align: right;\n",
       "    }\n",
       "</style>\n",
       "<table border=\"1\" class=\"dataframe\">\n",
       "  <thead>\n",
       "    <tr style=\"text-align: right;\">\n",
       "      <th></th>\n",
       "      <th>Data</th>\n",
       "      <th>Unidade</th>\n",
       "      <th>Grupo EFR</th>\n",
       "      <th>Grupo Rúbrica</th>\n",
       "      <th>Tipo Rúbrica</th>\n",
       "      <th>Data Nascimento</th>\n",
       "      <th>Sexo</th>\n",
       "      <th>hashed_ID_Único</th>\n",
       "    </tr>\n",
       "  </thead>\n",
       "  <tbody>\n",
       "    <tr>\n",
       "      <th>0</th>\n",
       "      <td>14/09/2017</td>\n",
       "      <td>HCIS</td>\n",
       "      <td>ADSE</td>\n",
       "      <td>SERVIÇOS ESPECIAIS CARDIOLOGIA</td>\n",
       "      <td>EXAMES ESPECIAIS</td>\n",
       "      <td>1980.0</td>\n",
       "      <td>Feminino</td>\n",
       "      <td>91e9d2627cd4cc24958988333c4220a3</td>\n",
       "    </tr>\n",
       "    <tr>\n",
       "      <th>1</th>\n",
       "      <td>21/08/2017</td>\n",
       "      <td>CCSJM</td>\n",
       "      <td>PARTICULARES</td>\n",
       "      <td>SERVIÇOS E TÉCNICAS GERAIS</td>\n",
       "      <td>EXAMES ESPECIAIS</td>\n",
       "      <td>1980.0</td>\n",
       "      <td>Feminino</td>\n",
       "      <td>91e9d2627cd4cc24958988333c4220a3</td>\n",
       "    </tr>\n",
       "    <tr>\n",
       "      <th>2</th>\n",
       "      <td>21/08/2017</td>\n",
       "      <td>CCSJM</td>\n",
       "      <td>PARTICULARES</td>\n",
       "      <td>SERVIÇOS E TÉCNICAS GERAIS</td>\n",
       "      <td>SERVIÇOS E TÉCNICAS GERAIS</td>\n",
       "      <td>1980.0</td>\n",
       "      <td>Feminino</td>\n",
       "      <td>91e9d2627cd4cc24958988333c4220a3</td>\n",
       "    </tr>\n",
       "    <tr>\n",
       "      <th>3</th>\n",
       "      <td>18/12/2017</td>\n",
       "      <td>CCTV</td>\n",
       "      <td>ADSE</td>\n",
       "      <td>SERVIÇOS ESPECIAIS UROLOGIA</td>\n",
       "      <td>EXAMES ESPECIAIS</td>\n",
       "      <td>1980.0</td>\n",
       "      <td>Feminino</td>\n",
       "      <td>91e9d2627cd4cc24958988333c4220a3</td>\n",
       "    </tr>\n",
       "    <tr>\n",
       "      <th>4</th>\n",
       "      <td>24/04/2017</td>\n",
       "      <td>CCSJM</td>\n",
       "      <td>PARTICULARES</td>\n",
       "      <td>SERVIÇOS ESPECIAIS CARDIOLOGIA</td>\n",
       "      <td>EXAMES ESPECIAIS</td>\n",
       "      <td>1980.0</td>\n",
       "      <td>Feminino</td>\n",
       "      <td>91e9d2627cd4cc24958988333c4220a3</td>\n",
       "    </tr>\n",
       "  </tbody>\n",
       "</table>\n",
       "</div>"
      ],
      "text/plain": [
       "         Data Unidade     Grupo EFR                   Grupo Rúbrica  \\\n",
       "0  14/09/2017    HCIS          ADSE  SERVIÇOS ESPECIAIS CARDIOLOGIA   \n",
       "1  21/08/2017   CCSJM  PARTICULARES      SERVIÇOS E TÉCNICAS GERAIS   \n",
       "2  21/08/2017   CCSJM  PARTICULARES      SERVIÇOS E TÉCNICAS GERAIS   \n",
       "3  18/12/2017    CCTV          ADSE     SERVIÇOS ESPECIAIS UROLOGIA   \n",
       "4  24/04/2017   CCSJM  PARTICULARES  SERVIÇOS ESPECIAIS CARDIOLOGIA   \n",
       "\n",
       "                 Tipo Rúbrica  Data Nascimento      Sexo  \\\n",
       "0            EXAMES ESPECIAIS           1980.0  Feminino   \n",
       "1            EXAMES ESPECIAIS           1980.0  Feminino   \n",
       "2  SERVIÇOS E TÉCNICAS GERAIS           1980.0  Feminino   \n",
       "3            EXAMES ESPECIAIS           1980.0  Feminino   \n",
       "4            EXAMES ESPECIAIS           1980.0  Feminino   \n",
       "\n",
       "                    hashed_ID_Único  \n",
       "0  91e9d2627cd4cc24958988333c4220a3  \n",
       "1  91e9d2627cd4cc24958988333c4220a3  \n",
       "2  91e9d2627cd4cc24958988333c4220a3  \n",
       "3  91e9d2627cd4cc24958988333c4220a3  \n",
       "4  91e9d2627cd4cc24958988333c4220a3  "
      ]
     },
     "execution_count": 2,
     "metadata": {},
     "output_type": "execute_result"
    }
   ],
   "source": [
    "df = pd.read_pickle('combinedyears.pkl')\n",
    "df.head()"
   ]
  },
  {
   "cell_type": "code",
   "execution_count": 3,
   "metadata": {},
   "outputs": [
    {
     "data": {
      "text/plain": [
       "(22079182, 8)"
      ]
     },
     "execution_count": 3,
     "metadata": {},
     "output_type": "execute_result"
    }
   ],
   "source": [
    "df.shape"
   ]
  },
  {
   "cell_type": "markdown",
   "metadata": {},
   "source": [
    "## Data Cleaning"
   ]
  },
  {
   "cell_type": "code",
   "execution_count": 4,
   "metadata": {},
   "outputs": [
    {
     "data": {
      "text/html": [
       "<div>\n",
       "<style scoped>\n",
       "    .dataframe tbody tr th:only-of-type {\n",
       "        vertical-align: middle;\n",
       "    }\n",
       "\n",
       "    .dataframe tbody tr th {\n",
       "        vertical-align: top;\n",
       "    }\n",
       "\n",
       "    .dataframe thead th {\n",
       "        text-align: right;\n",
       "    }\n",
       "</style>\n",
       "<table border=\"1\" class=\"dataframe\">\n",
       "  <thead>\n",
       "    <tr style=\"text-align: right;\">\n",
       "      <th></th>\n",
       "      <th>Date</th>\n",
       "      <th>Hospital</th>\n",
       "      <th>Payer</th>\n",
       "      <th>Specific_Service</th>\n",
       "      <th>Category_of_Service</th>\n",
       "      <th>Birth_Year</th>\n",
       "      <th>Sex</th>\n",
       "      <th>UniqueID</th>\n",
       "    </tr>\n",
       "  </thead>\n",
       "  <tbody>\n",
       "    <tr>\n",
       "      <th>0</th>\n",
       "      <td>14/09/2017</td>\n",
       "      <td>HCIS</td>\n",
       "      <td>ADSE</td>\n",
       "      <td>SERVIÇOS ESPECIAIS CARDIOLOGIA</td>\n",
       "      <td>EXAMES ESPECIAIS</td>\n",
       "      <td>1980.0</td>\n",
       "      <td>Feminino</td>\n",
       "      <td>91e9d2627cd4cc24958988333c4220a3</td>\n",
       "    </tr>\n",
       "    <tr>\n",
       "      <th>1</th>\n",
       "      <td>21/08/2017</td>\n",
       "      <td>CCSJM</td>\n",
       "      <td>PARTICULARES</td>\n",
       "      <td>SERVIÇOS E TÉCNICAS GERAIS</td>\n",
       "      <td>EXAMES ESPECIAIS</td>\n",
       "      <td>1980.0</td>\n",
       "      <td>Feminino</td>\n",
       "      <td>91e9d2627cd4cc24958988333c4220a3</td>\n",
       "    </tr>\n",
       "    <tr>\n",
       "      <th>2</th>\n",
       "      <td>21/08/2017</td>\n",
       "      <td>CCSJM</td>\n",
       "      <td>PARTICULARES</td>\n",
       "      <td>SERVIÇOS E TÉCNICAS GERAIS</td>\n",
       "      <td>SERVIÇOS E TÉCNICAS GERAIS</td>\n",
       "      <td>1980.0</td>\n",
       "      <td>Feminino</td>\n",
       "      <td>91e9d2627cd4cc24958988333c4220a3</td>\n",
       "    </tr>\n",
       "  </tbody>\n",
       "</table>\n",
       "</div>"
      ],
      "text/plain": [
       "         Date Hospital         Payer                Specific_Service  \\\n",
       "0  14/09/2017     HCIS          ADSE  SERVIÇOS ESPECIAIS CARDIOLOGIA   \n",
       "1  21/08/2017    CCSJM  PARTICULARES      SERVIÇOS E TÉCNICAS GERAIS   \n",
       "2  21/08/2017    CCSJM  PARTICULARES      SERVIÇOS E TÉCNICAS GERAIS   \n",
       "\n",
       "          Category_of_Service  Birth_Year       Sex  \\\n",
       "0            EXAMES ESPECIAIS      1980.0  Feminino   \n",
       "1            EXAMES ESPECIAIS      1980.0  Feminino   \n",
       "2  SERVIÇOS E TÉCNICAS GERAIS      1980.0  Feminino   \n",
       "\n",
       "                           UniqueID  \n",
       "0  91e9d2627cd4cc24958988333c4220a3  \n",
       "1  91e9d2627cd4cc24958988333c4220a3  \n",
       "2  91e9d2627cd4cc24958988333c4220a3  "
      ]
     },
     "execution_count": 4,
     "metadata": {},
     "output_type": "execute_result"
    }
   ],
   "source": [
    "# rename columns\n",
    "columns = ['Date','Hospital','Payer','Specific_Service','Category_of_Service','Birth_Year','Sex','UniqueID']\n",
    "df.columns = columns\n",
    "\n",
    "# drop virtual client\n",
    "df = df[df.UniqueID != '6bb61e3b7bce0931da574d19d1d82c88'] \n",
    "\n",
    "df.head(3)"
   ]
  },
  {
   "cell_type": "code",
   "execution_count": 5,
   "metadata": {},
   "outputs": [
    {
     "data": {
      "text/html": [
       "<div>\n",
       "<style scoped>\n",
       "    .dataframe tbody tr th:only-of-type {\n",
       "        vertical-align: middle;\n",
       "    }\n",
       "\n",
       "    .dataframe tbody tr th {\n",
       "        vertical-align: top;\n",
       "    }\n",
       "\n",
       "    .dataframe thead th {\n",
       "        text-align: right;\n",
       "    }\n",
       "</style>\n",
       "<table border=\"1\" class=\"dataframe\">\n",
       "  <thead>\n",
       "    <tr style=\"text-align: right;\">\n",
       "      <th></th>\n",
       "      <th>Date</th>\n",
       "      <th>Hospital</th>\n",
       "      <th>Payer</th>\n",
       "      <th>Specific_Service</th>\n",
       "      <th>Category_of_Service</th>\n",
       "      <th>Birth_Year</th>\n",
       "      <th>Sex</th>\n",
       "      <th>UniqueID</th>\n",
       "    </tr>\n",
       "  </thead>\n",
       "  <tbody>\n",
       "    <tr>\n",
       "      <th>5387198</th>\n",
       "      <td>11/10/2017</td>\n",
       "      <td>HCP</td>\n",
       "      <td>MÉDIS</td>\n",
       "      <td>URGÊNCIA GERAL</td>\n",
       "      <td>URGÊNCIAS</td>\n",
       "      <td>1969.0</td>\n",
       "      <td>Masculino</td>\n",
       "      <td>00000f7264c27ba6fea0c837ed6aa0aa</td>\n",
       "    </tr>\n",
       "    <tr>\n",
       "      <th>5387199</th>\n",
       "      <td>11/10/2017</td>\n",
       "      <td>HCP</td>\n",
       "      <td>MÉDIS</td>\n",
       "      <td>ECOGRAFIA</td>\n",
       "      <td>IMAGIOLOGIA</td>\n",
       "      <td>1969.0</td>\n",
       "      <td>Masculino</td>\n",
       "      <td>00000f7264c27ba6fea0c837ed6aa0aa</td>\n",
       "    </tr>\n",
       "    <tr>\n",
       "      <th>5366911</th>\n",
       "      <td>11/02/2016</td>\n",
       "      <td>ICDT</td>\n",
       "      <td>MÉDIS</td>\n",
       "      <td>PATOLOGIA CLINICA</td>\n",
       "      <td>PATOLOGIA CLINICA</td>\n",
       "      <td>1969.0</td>\n",
       "      <td>Masculino</td>\n",
       "      <td>00000f7264c27ba6fea0c837ed6aa0aa</td>\n",
       "    </tr>\n",
       "    <tr>\n",
       "      <th>5366912</th>\n",
       "      <td>16/05/2016</td>\n",
       "      <td>ICDT</td>\n",
       "      <td>MÉDIS</td>\n",
       "      <td>PATOLOGIA CLINICA</td>\n",
       "      <td>PATOLOGIA CLINICA</td>\n",
       "      <td>1969.0</td>\n",
       "      <td>Masculino</td>\n",
       "      <td>00000f7264c27ba6fea0c837ed6aa0aa</td>\n",
       "    </tr>\n",
       "    <tr>\n",
       "      <th>5366913</th>\n",
       "      <td>18/05/2016</td>\n",
       "      <td>HCP</td>\n",
       "      <td>MÉDIS</td>\n",
       "      <td>DERMATOLOGIA</td>\n",
       "      <td>CONSULTA EXTERNA</td>\n",
       "      <td>1969.0</td>\n",
       "      <td>Masculino</td>\n",
       "      <td>00000f7264c27ba6fea0c837ed6aa0aa</td>\n",
       "    </tr>\n",
       "  </tbody>\n",
       "</table>\n",
       "</div>"
      ],
      "text/plain": [
       "               Date Hospital  Payer   Specific_Service Category_of_Service  \\\n",
       "5387198  11/10/2017      HCP  MÉDIS     URGÊNCIA GERAL           URGÊNCIAS   \n",
       "5387199  11/10/2017      HCP  MÉDIS          ECOGRAFIA         IMAGIOLOGIA   \n",
       "5366911  11/02/2016     ICDT  MÉDIS  PATOLOGIA CLINICA   PATOLOGIA CLINICA   \n",
       "5366912  16/05/2016     ICDT  MÉDIS  PATOLOGIA CLINICA   PATOLOGIA CLINICA   \n",
       "5366913  18/05/2016      HCP  MÉDIS       DERMATOLOGIA    CONSULTA EXTERNA   \n",
       "\n",
       "         Birth_Year        Sex                          UniqueID  \n",
       "5387198      1969.0  Masculino  00000f7264c27ba6fea0c837ed6aa0aa  \n",
       "5387199      1969.0  Masculino  00000f7264c27ba6fea0c837ed6aa0aa  \n",
       "5366911      1969.0  Masculino  00000f7264c27ba6fea0c837ed6aa0aa  \n",
       "5366912      1969.0  Masculino  00000f7264c27ba6fea0c837ed6aa0aa  \n",
       "5366913      1969.0  Masculino  00000f7264c27ba6fea0c837ed6aa0aa  "
      ]
     },
     "execution_count": 5,
     "metadata": {},
     "output_type": "execute_result"
    }
   ],
   "source": [
    "df[df.UniqueID == '00000f7264c27ba6fea0c837ed6aa0aa']"
   ]
  },
  {
   "cell_type": "markdown",
   "metadata": {},
   "source": [
    "### Basic Processing"
   ]
  },
  {
   "cell_type": "code",
   "execution_count": 5,
   "metadata": {},
   "outputs": [
    {
     "data": {
      "text/html": [
       "<div>\n",
       "<style scoped>\n",
       "    .dataframe tbody tr th:only-of-type {\n",
       "        vertical-align: middle;\n",
       "    }\n",
       "\n",
       "    .dataframe tbody tr th {\n",
       "        vertical-align: top;\n",
       "    }\n",
       "\n",
       "    .dataframe thead th {\n",
       "        text-align: right;\n",
       "    }\n",
       "</style>\n",
       "<table border=\"1\" class=\"dataframe\">\n",
       "  <thead>\n",
       "    <tr style=\"text-align: right;\">\n",
       "      <th></th>\n",
       "      <th>Date</th>\n",
       "      <th>Hospital</th>\n",
       "      <th>Payer</th>\n",
       "      <th>Specific_Service</th>\n",
       "      <th>Category_of_Service</th>\n",
       "      <th>Sex</th>\n",
       "      <th>UniqueID</th>\n",
       "      <th>Age</th>\n",
       "    </tr>\n",
       "  </thead>\n",
       "  <tbody>\n",
       "    <tr>\n",
       "      <th>0</th>\n",
       "      <td>14/09/2017</td>\n",
       "      <td>HCIS</td>\n",
       "      <td>ADSE</td>\n",
       "      <td>SERVIÇOS ESPECIAIS CARDIOLOGIA</td>\n",
       "      <td>EXAMES ESPECIAIS</td>\n",
       "      <td>Feminino</td>\n",
       "      <td>91e9d2627cd4cc24958988333c4220a3</td>\n",
       "      <td>37.0</td>\n",
       "    </tr>\n",
       "    <tr>\n",
       "      <th>1</th>\n",
       "      <td>21/08/2017</td>\n",
       "      <td>CCSJM</td>\n",
       "      <td>PARTICULARES</td>\n",
       "      <td>SERVIÇOS E TÉCNICAS GERAIS</td>\n",
       "      <td>EXAMES ESPECIAIS</td>\n",
       "      <td>Feminino</td>\n",
       "      <td>91e9d2627cd4cc24958988333c4220a3</td>\n",
       "      <td>37.0</td>\n",
       "    </tr>\n",
       "    <tr>\n",
       "      <th>2</th>\n",
       "      <td>21/08/2017</td>\n",
       "      <td>CCSJM</td>\n",
       "      <td>PARTICULARES</td>\n",
       "      <td>SERVIÇOS E TÉCNICAS GERAIS</td>\n",
       "      <td>SERVIÇOS E TÉCNICAS GERAIS</td>\n",
       "      <td>Feminino</td>\n",
       "      <td>91e9d2627cd4cc24958988333c4220a3</td>\n",
       "      <td>37.0</td>\n",
       "    </tr>\n",
       "  </tbody>\n",
       "</table>\n",
       "</div>"
      ],
      "text/plain": [
       "         Date Hospital         Payer                Specific_Service  \\\n",
       "0  14/09/2017     HCIS          ADSE  SERVIÇOS ESPECIAIS CARDIOLOGIA   \n",
       "1  21/08/2017    CCSJM  PARTICULARES      SERVIÇOS E TÉCNICAS GERAIS   \n",
       "2  21/08/2017    CCSJM  PARTICULARES      SERVIÇOS E TÉCNICAS GERAIS   \n",
       "\n",
       "          Category_of_Service       Sex                          UniqueID  \\\n",
       "0            EXAMES ESPECIAIS  Feminino  91e9d2627cd4cc24958988333c4220a3   \n",
       "1            EXAMES ESPECIAIS  Feminino  91e9d2627cd4cc24958988333c4220a3   \n",
       "2  SERVIÇOS E TÉCNICAS GERAIS  Feminino  91e9d2627cd4cc24958988333c4220a3   \n",
       "\n",
       "    Age  \n",
       "0  37.0  \n",
       "1  37.0  \n",
       "2  37.0  "
      ]
     },
     "execution_count": 5,
     "metadata": {},
     "output_type": "execute_result"
    }
   ],
   "source": [
    "import numpy as np\n",
    "\n",
    "# create an age column\n",
    "df[\"Year\"] = [x.strip()[-4:] for x in df[\"Date\"]] # strip year from date\n",
    "df[\"Year\"] = df[\"Year\"].astype(np.int16) # convert to int\n",
    "df[\"Age\"] = df[\"Year\"] - df['Birth_Year'] # subtract birth year to get age\n",
    "\n",
    "del df[\"Birth_Year\"]\n",
    "del df['Year']\n",
    "\n",
    "df.head(3)"
   ]
  },
  {
   "cell_type": "markdown",
   "metadata": {},
   "source": [
    "#### Missing Values and Duplicates"
   ]
  },
  {
   "cell_type": "code",
   "execution_count": 6,
   "metadata": {},
   "outputs": [
    {
     "name": "stdout",
     "output_type": "stream",
     "text": [
      "Date | 0.0 | object\n",
      "Hospital | 0.0 | object\n",
      "Payer | 8.823801725007941e-05 | object\n",
      "Specific_Service | 0.005359508316750203 | object\n",
      "Category_of_Service | 0.005359508316750203 | object\n",
      "Sex | 0.0025555052459947276 | object\n",
      "UniqueID | 0.0 | object\n",
      "Age | 0.0 | float64\n"
     ]
    }
   ],
   "source": [
    "# check for missing values\n",
    "n_records = len(df)\n",
    "def missing_values_df(df):\n",
    "    for column in df:\n",
    "        print(\"{} | {} | {}\".format(\n",
    "            column, len(df[df[column].isnull()]) / (1.0*n_records), df[column].dtype\n",
    "        ))\n",
    "\n",
    "missing_values_df(df)"
   ]
  },
  {
   "cell_type": "code",
   "execution_count": 7,
   "metadata": {},
   "outputs": [
    {
     "data": {
      "text/html": [
       "<div>\n",
       "<style scoped>\n",
       "    .dataframe tbody tr th:only-of-type {\n",
       "        vertical-align: middle;\n",
       "    }\n",
       "\n",
       "    .dataframe tbody tr th {\n",
       "        vertical-align: top;\n",
       "    }\n",
       "\n",
       "    .dataframe thead th {\n",
       "        text-align: right;\n",
       "    }\n",
       "</style>\n",
       "<table border=\"1\" class=\"dataframe\">\n",
       "  <thead>\n",
       "    <tr style=\"text-align: right;\">\n",
       "      <th></th>\n",
       "      <th>Date</th>\n",
       "      <th>Hospital</th>\n",
       "      <th>Payer</th>\n",
       "      <th>Specific_Service</th>\n",
       "      <th>Category_of_Service</th>\n",
       "      <th>Sex</th>\n",
       "      <th>UniqueID</th>\n",
       "      <th>Age</th>\n",
       "    </tr>\n",
       "  </thead>\n",
       "  <tbody>\n",
       "    <tr>\n",
       "      <th>0</th>\n",
       "      <td>14/09/2017</td>\n",
       "      <td>HCIS</td>\n",
       "      <td>ADSE</td>\n",
       "      <td>SERVIÇOS ESPECIAIS CARDIOLOGIA</td>\n",
       "      <td>EXAMES ESPECIAIS</td>\n",
       "      <td>Feminino</td>\n",
       "      <td>91e9d2627cd4cc24958988333c4220a3</td>\n",
       "      <td>37.0</td>\n",
       "    </tr>\n",
       "    <tr>\n",
       "      <th>1</th>\n",
       "      <td>21/08/2017</td>\n",
       "      <td>CCSJM</td>\n",
       "      <td>PARTICULARES</td>\n",
       "      <td>SERVIÇOS E TÉCNICAS GERAIS</td>\n",
       "      <td>EXAMES ESPECIAIS</td>\n",
       "      <td>Feminino</td>\n",
       "      <td>91e9d2627cd4cc24958988333c4220a3</td>\n",
       "      <td>37.0</td>\n",
       "    </tr>\n",
       "    <tr>\n",
       "      <th>2</th>\n",
       "      <td>21/08/2017</td>\n",
       "      <td>CCSJM</td>\n",
       "      <td>PARTICULARES</td>\n",
       "      <td>SERVIÇOS E TÉCNICAS GERAIS</td>\n",
       "      <td>SERVIÇOS E TÉCNICAS GERAIS</td>\n",
       "      <td>Feminino</td>\n",
       "      <td>91e9d2627cd4cc24958988333c4220a3</td>\n",
       "      <td>37.0</td>\n",
       "    </tr>\n",
       "  </tbody>\n",
       "</table>\n",
       "</div>"
      ],
      "text/plain": [
       "         Date Hospital         Payer                Specific_Service  \\\n",
       "0  14/09/2017     HCIS          ADSE  SERVIÇOS ESPECIAIS CARDIOLOGIA   \n",
       "1  21/08/2017    CCSJM  PARTICULARES      SERVIÇOS E TÉCNICAS GERAIS   \n",
       "2  21/08/2017    CCSJM  PARTICULARES      SERVIÇOS E TÉCNICAS GERAIS   \n",
       "\n",
       "          Category_of_Service       Sex                          UniqueID  \\\n",
       "0            EXAMES ESPECIAIS  Feminino  91e9d2627cd4cc24958988333c4220a3   \n",
       "1            EXAMES ESPECIAIS  Feminino  91e9d2627cd4cc24958988333c4220a3   \n",
       "2  SERVIÇOS E TÉCNICAS GERAIS  Feminino  91e9d2627cd4cc24958988333c4220a3   \n",
       "\n",
       "    Age  \n",
       "0  37.0  \n",
       "1  37.0  \n",
       "2  37.0  "
      ]
     },
     "execution_count": 7,
     "metadata": {},
     "output_type": "execute_result"
    }
   ],
   "source": [
    "# fill missing sex with missing\n",
    "df.Sex.fillna('missing',inplace = True)\n",
    "\n",
    "# fill '-' with missing\n",
    "df.replace('-','missing',inplace=True)\n",
    "\n",
    "# drop outlier ages\n",
    "df = df[df.Age>=0]\n",
    "df.loc[df.Age > 110, 'Age'] = np.nan\n",
    "\n",
    "# drop missing values\n",
    "df.dropna(inplace = True)\n",
    "\n",
    "df.head(3)"
   ]
  },
  {
   "cell_type": "code",
   "execution_count": 8,
   "metadata": {},
   "outputs": [
    {
     "name": "stdout",
     "output_type": "stream",
     "text": [
      "Date | 0.0 | object\n",
      "Hospital | 0.0 | object\n",
      "Payer | 0.0 | object\n",
      "Specific_Service | 0.0 | object\n",
      "Category_of_Service | 0.0 | object\n",
      "Sex | 0.0 | object\n",
      "UniqueID | 0.0 | object\n",
      "Age | 0.0 | float64\n"
     ]
    }
   ],
   "source": [
    "# verify no missing values\n",
    "missing_values_df(df)"
   ]
  },
  {
   "cell_type": "code",
   "execution_count": 9,
   "metadata": {},
   "outputs": [
    {
     "data": {
      "text/plain": [
       "(21950351, 8)"
      ]
     },
     "execution_count": 9,
     "metadata": {},
     "output_type": "execute_result"
    }
   ],
   "source": [
    "df.shape"
   ]
  },
  {
   "cell_type": "markdown",
   "metadata": {},
   "source": [
    "#### Specific Services"
   ]
  },
  {
   "cell_type": "code",
   "execution_count": 13,
   "metadata": {},
   "outputs": [
    {
     "data": {
      "text/plain": [
       "Series([], Name: Sex, dtype: object)"
      ]
     },
     "execution_count": 13,
     "metadata": {},
     "output_type": "execute_result"
    }
   ],
   "source": [
    "# align female sex with gender specific services\n",
    "df[(df.Specific_Service == \"APARELHO GENITAL FEMININO\") | (df.Specific_Service == \"BLOCO DE PARTOS\") |\n",
    "   (df.Specific_Service == \"ECOGRAFIA\") | (df.Specific_Service == \"ECOGRAFIA OBSTETRICA\") |\n",
    "   (df.Specific_Service == \"GINECOLOGIA-OBSTETRÍCIA\") | (df.Specific_Service == \"GRAVIDEZ E PARTO\") |\n",
    "   (df.Specific_Service == \"IMAGIOLOGIA MAMÁRIA\") | (df.Specific_Service == \"MAMA\") |\n",
    "   (df.Specific_Service == \"MAMOGRAFIA\") | (df.Specific_Service == \"SERVIÇOS ESPECIAIS GINECOLOGIA\") |\n",
    "   (df.Specific_Service == \"SERVIÇOS ESPECIAIS OBSTETRICIA\") |\n",
    "   (df.Specific_Service == \"URGÊNCIA GINECOLOGIA-OBSTETRÍCIA\") | \n",
    "   (df.Specific_Service == \"URGÊNCIA OBSTETRICIA\")].Sex.replace({'Masculino':'Feminino'}).head(0)"
   ]
  },
  {
   "cell_type": "code",
   "execution_count": 14,
   "metadata": {},
   "outputs": [
    {
     "data": {
      "text/plain": [
       "Series([], Name: Sex, dtype: object)"
      ]
     },
     "execution_count": 14,
     "metadata": {},
     "output_type": "execute_result"
    }
   ],
   "source": [
    "# align male sex with gender specific services\n",
    "df[(df.Specific_Service == \"APARELHO GENITAL MASCULINO\")].Sex.replace({'Feminino':'Masculino'}).head(0)"
   ]
  },
  {
   "cell_type": "code",
   "execution_count": 15,
   "metadata": {},
   "outputs": [],
   "source": [
    "# align age with age specific services\n",
    "index = df[((df.Specific_Service == \"CIRURGIA PEDIÁTRICA\") | \n",
    "           (df.Specific_Service == \"MEDICINA ANTI-ENVELHECIMENTO\") | \n",
    "           (df.Specific_Service == \"PEDIATRIA\") | (df.Specific_Service == \"PEDOPSIQUIATRIA\") | \n",
    "   (df.Specific_Service == \"URGÊNCIA CIRURGIA PEDIÁTRICA\") | (df.Specific_Service == \"URGÊNCIA PEDIATRIA\") | \n",
    "   (df.Specific_Service == \"URGÊNCIA PEDOPSIQUIATRIA\")) & (df.Age > 18)].index.values.tolist()\n"
   ]
  },
  {
   "cell_type": "code",
   "execution_count": 16,
   "metadata": {},
   "outputs": [],
   "source": [
    "# drop ages that don't fit pediatric care\n",
    "df = df.drop(index)"
   ]
  },
  {
   "cell_type": "code",
   "execution_count": 17,
   "metadata": {},
   "outputs": [
    {
     "data": {
      "text/plain": [
       "(21921171, 8)"
      ]
     },
     "execution_count": 17,
     "metadata": {},
     "output_type": "execute_result"
    }
   ],
   "source": [
    "df.shape"
   ]
  },
  {
   "cell_type": "markdown",
   "metadata": {},
   "source": [
    "#### Reduce File Size"
   ]
  },
  {
   "cell_type": "code",
   "execution_count": 18,
   "metadata": {},
   "outputs": [
    {
     "data": {
      "text/plain": [
       "Date                     object\n",
       "Hospital               category\n",
       "Payer                  category\n",
       "Specific_Service       category\n",
       "Category_of_Service    category\n",
       "Sex                    category\n",
       "UniqueID                 object\n",
       "Age                     float64\n",
       "dtype: object"
      ]
     },
     "execution_count": 18,
     "metadata": {},
     "output_type": "execute_result"
    }
   ],
   "source": [
    "# convert objects to categories to conserve space\n",
    "df[[\"Hospital\",\"Payer\",\"Specific_Service\",\n",
    "    \"Category_of_Service\",\"Sex\"]] = df[[\"Hospital\",\"Payer\",\"Specific_Service\",\n",
    "                                        \"Category_of_Service\",\"Sex\"]].astype('category')\n",
    "\n",
    "# see datatypes\n",
    "df.dtypes"
   ]
  },
  {
   "cell_type": "code",
   "execution_count": 19,
   "metadata": {},
   "outputs": [
    {
     "data": {
      "text/plain": [
       "(21921171, 8)"
      ]
     },
     "execution_count": 19,
     "metadata": {},
     "output_type": "execute_result"
    }
   ],
   "source": [
    "df.shape"
   ]
  },
  {
   "cell_type": "code",
   "execution_count": 20,
   "metadata": {},
   "outputs": [],
   "source": [
    "#save a copy of df\n",
    "df2 = df.copy()"
   ]
  },
  {
   "cell_type": "markdown",
   "metadata": {},
   "source": [
    "### Categorical Variable Grouping"
   ]
  },
  {
   "cell_type": "markdown",
   "metadata": {},
   "source": [
    "#### Hospitals"
   ]
  },
  {
   "cell_type": "code",
   "execution_count": 21,
   "metadata": {},
   "outputs": [
    {
     "data": {
      "text/plain": [
       "[HCIS, CCSJM, CCTV, HCP, HCS, ..., CCAL, ICDT, CCSDR, HCV, CCM]\n",
       "Length: 16\n",
       "Categories (16, object): [HCIS, CCSJM, CCTV, HCP, ..., ICDT, CCSDR, HCV, CCM]"
      ]
     },
     "execution_count": 21,
     "metadata": {},
     "output_type": "execute_result"
    }
   ],
   "source": [
    "df.Hospital.unique()"
   ]
  },
  {
   "cell_type": "code",
   "execution_count": 22,
   "metadata": {},
   "outputs": [
    {
     "data": {
      "text/html": [
       "<div>\n",
       "<style scoped>\n",
       "    .dataframe tbody tr th:only-of-type {\n",
       "        vertical-align: middle;\n",
       "    }\n",
       "\n",
       "    .dataframe tbody tr th {\n",
       "        vertical-align: top;\n",
       "    }\n",
       "\n",
       "    .dataframe thead th {\n",
       "        text-align: right;\n",
       "    }\n",
       "</style>\n",
       "<table border=\"1\" class=\"dataframe\">\n",
       "  <thead>\n",
       "    <tr style=\"text-align: right;\">\n",
       "      <th></th>\n",
       "      <th>Date</th>\n",
       "      <th>Hospital</th>\n",
       "      <th>Payer</th>\n",
       "      <th>Specific_Service</th>\n",
       "      <th>Category_of_Service</th>\n",
       "      <th>Sex</th>\n",
       "      <th>UniqueID</th>\n",
       "      <th>Age</th>\n",
       "      <th>HType</th>\n",
       "    </tr>\n",
       "  </thead>\n",
       "  <tbody>\n",
       "    <tr>\n",
       "      <th>0</th>\n",
       "      <td>14/09/2017</td>\n",
       "      <td>HCIS</td>\n",
       "      <td>ADSE</td>\n",
       "      <td>SERVIÇOS ESPECIAIS CARDIOLOGIA</td>\n",
       "      <td>EXAMES ESPECIAIS</td>\n",
       "      <td>Feminino</td>\n",
       "      <td>91e9d2627cd4cc24958988333c4220a3</td>\n",
       "      <td>37.0</td>\n",
       "      <td>Large</td>\n",
       "    </tr>\n",
       "    <tr>\n",
       "      <th>1</th>\n",
       "      <td>21/08/2017</td>\n",
       "      <td>CCSJM</td>\n",
       "      <td>PARTICULARES</td>\n",
       "      <td>SERVIÇOS E TÉCNICAS GERAIS</td>\n",
       "      <td>EXAMES ESPECIAIS</td>\n",
       "      <td>Feminino</td>\n",
       "      <td>91e9d2627cd4cc24958988333c4220a3</td>\n",
       "      <td>37.0</td>\n",
       "      <td>Clinic</td>\n",
       "    </tr>\n",
       "    <tr>\n",
       "      <th>2</th>\n",
       "      <td>21/08/2017</td>\n",
       "      <td>CCSJM</td>\n",
       "      <td>PARTICULARES</td>\n",
       "      <td>SERVIÇOS E TÉCNICAS GERAIS</td>\n",
       "      <td>SERVIÇOS E TÉCNICAS GERAIS</td>\n",
       "      <td>Feminino</td>\n",
       "      <td>91e9d2627cd4cc24958988333c4220a3</td>\n",
       "      <td>37.0</td>\n",
       "      <td>Clinic</td>\n",
       "    </tr>\n",
       "  </tbody>\n",
       "</table>\n",
       "</div>"
      ],
      "text/plain": [
       "         Date Hospital         Payer                Specific_Service  \\\n",
       "0  14/09/2017     HCIS          ADSE  SERVIÇOS ESPECIAIS CARDIOLOGIA   \n",
       "1  21/08/2017    CCSJM  PARTICULARES      SERVIÇOS E TÉCNICAS GERAIS   \n",
       "2  21/08/2017    CCSJM  PARTICULARES      SERVIÇOS E TÉCNICAS GERAIS   \n",
       "\n",
       "          Category_of_Service       Sex                          UniqueID  \\\n",
       "0            EXAMES ESPECIAIS  Feminino  91e9d2627cd4cc24958988333c4220a3   \n",
       "1            EXAMES ESPECIAIS  Feminino  91e9d2627cd4cc24958988333c4220a3   \n",
       "2  SERVIÇOS E TÉCNICAS GERAIS  Feminino  91e9d2627cd4cc24958988333c4220a3   \n",
       "\n",
       "    Age   HType  \n",
       "0  37.0   Large  \n",
       "1  37.0  Clinic  \n",
       "2  37.0  Clinic  "
      ]
     },
     "execution_count": 22,
     "metadata": {},
     "output_type": "execute_result"
    }
   ],
   "source": [
    "# categorical grouping for hospitals based on size\n",
    "\n",
    "# define lists that group hospitals by size\n",
    "large_hospital = ['HCD','HCIS','HCP']\n",
    "medium_hospital = ['CCC','CCTV','HCS','HCV','CUFC']\n",
    "clinic = ['ICDT','CCA','CCB','CCAL','CCSDR','CCMF','CCS','CCM','CCSJM','CLA']\n",
    "\n",
    "# create a new column (HType) that describes the size of the hospital \n",
    "df.loc[df['Hospital'].isin(large_hospital),'HType'] = 'Large'\n",
    "df.loc[df['Hospital'].isin(medium_hospital),'HType'] = 'Medium'\n",
    "df.loc[df['Hospital'].isin(clinic),'HType'] = 'Clinic'\n",
    "\n",
    "df.head(3)"
   ]
  },
  {
   "cell_type": "code",
   "execution_count": 23,
   "metadata": {},
   "outputs": [
    {
     "data": {
      "text/html": [
       "<div>\n",
       "<style scoped>\n",
       "    .dataframe tbody tr th:only-of-type {\n",
       "        vertical-align: middle;\n",
       "    }\n",
       "\n",
       "    .dataframe tbody tr th {\n",
       "        vertical-align: top;\n",
       "    }\n",
       "\n",
       "    .dataframe thead th {\n",
       "        text-align: right;\n",
       "    }\n",
       "</style>\n",
       "<table border=\"1\" class=\"dataframe\">\n",
       "  <thead>\n",
       "    <tr style=\"text-align: right;\">\n",
       "      <th></th>\n",
       "      <th>Date</th>\n",
       "      <th>Hospital</th>\n",
       "      <th>Payer</th>\n",
       "      <th>Specific_Service</th>\n",
       "      <th>Category_of_Service</th>\n",
       "      <th>Sex</th>\n",
       "      <th>UniqueID</th>\n",
       "      <th>Age</th>\n",
       "      <th>HType</th>\n",
       "      <th>HRegion</th>\n",
       "    </tr>\n",
       "  </thead>\n",
       "  <tbody>\n",
       "    <tr>\n",
       "      <th>0</th>\n",
       "      <td>14/09/2017</td>\n",
       "      <td>HCIS</td>\n",
       "      <td>ADSE</td>\n",
       "      <td>SERVIÇOS ESPECIAIS CARDIOLOGIA</td>\n",
       "      <td>EXAMES ESPECIAIS</td>\n",
       "      <td>Feminino</td>\n",
       "      <td>91e9d2627cd4cc24958988333c4220a3</td>\n",
       "      <td>37.0</td>\n",
       "      <td>Large</td>\n",
       "      <td>Lisbon</td>\n",
       "    </tr>\n",
       "    <tr>\n",
       "      <th>1</th>\n",
       "      <td>21/08/2017</td>\n",
       "      <td>CCSJM</td>\n",
       "      <td>PARTICULARES</td>\n",
       "      <td>SERVIÇOS E TÉCNICAS GERAIS</td>\n",
       "      <td>EXAMES ESPECIAIS</td>\n",
       "      <td>Feminino</td>\n",
       "      <td>91e9d2627cd4cc24958988333c4220a3</td>\n",
       "      <td>37.0</td>\n",
       "      <td>Clinic</td>\n",
       "      <td>Porto</td>\n",
       "    </tr>\n",
       "    <tr>\n",
       "      <th>2</th>\n",
       "      <td>21/08/2017</td>\n",
       "      <td>CCSJM</td>\n",
       "      <td>PARTICULARES</td>\n",
       "      <td>SERVIÇOS E TÉCNICAS GERAIS</td>\n",
       "      <td>SERVIÇOS E TÉCNICAS GERAIS</td>\n",
       "      <td>Feminino</td>\n",
       "      <td>91e9d2627cd4cc24958988333c4220a3</td>\n",
       "      <td>37.0</td>\n",
       "      <td>Clinic</td>\n",
       "      <td>Porto</td>\n",
       "    </tr>\n",
       "    <tr>\n",
       "      <th>3</th>\n",
       "      <td>18/12/2017</td>\n",
       "      <td>CCTV</td>\n",
       "      <td>ADSE</td>\n",
       "      <td>SERVIÇOS ESPECIAIS UROLOGIA</td>\n",
       "      <td>EXAMES ESPECIAIS</td>\n",
       "      <td>Feminino</td>\n",
       "      <td>91e9d2627cd4cc24958988333c4220a3</td>\n",
       "      <td>37.0</td>\n",
       "      <td>Medium</td>\n",
       "      <td>Lisbon</td>\n",
       "    </tr>\n",
       "    <tr>\n",
       "      <th>4</th>\n",
       "      <td>24/04/2017</td>\n",
       "      <td>CCSJM</td>\n",
       "      <td>PARTICULARES</td>\n",
       "      <td>SERVIÇOS ESPECIAIS CARDIOLOGIA</td>\n",
       "      <td>EXAMES ESPECIAIS</td>\n",
       "      <td>Feminino</td>\n",
       "      <td>91e9d2627cd4cc24958988333c4220a3</td>\n",
       "      <td>37.0</td>\n",
       "      <td>Clinic</td>\n",
       "      <td>Porto</td>\n",
       "    </tr>\n",
       "    <tr>\n",
       "      <th>5</th>\n",
       "      <td>04/05/2017</td>\n",
       "      <td>HCIS</td>\n",
       "      <td>ADSE</td>\n",
       "      <td>ENDOSCOPIA</td>\n",
       "      <td>EXAMES ESPECIAIS</td>\n",
       "      <td>Feminino</td>\n",
       "      <td>91e9d2627cd4cc24958988333c4220a3</td>\n",
       "      <td>37.0</td>\n",
       "      <td>Large</td>\n",
       "      <td>Lisbon</td>\n",
       "    </tr>\n",
       "    <tr>\n",
       "      <th>6</th>\n",
       "      <td>29/05/2017</td>\n",
       "      <td>HCP</td>\n",
       "      <td>PARTICULARES</td>\n",
       "      <td>ENDOSCOPIA</td>\n",
       "      <td>EXAMES ESPECIAIS</td>\n",
       "      <td>Feminino</td>\n",
       "      <td>91e9d2627cd4cc24958988333c4220a3</td>\n",
       "      <td>37.0</td>\n",
       "      <td>Large</td>\n",
       "      <td>Porto</td>\n",
       "    </tr>\n",
       "  </tbody>\n",
       "</table>\n",
       "</div>"
      ],
      "text/plain": [
       "         Date Hospital         Payer                Specific_Service  \\\n",
       "0  14/09/2017     HCIS          ADSE  SERVIÇOS ESPECIAIS CARDIOLOGIA   \n",
       "1  21/08/2017    CCSJM  PARTICULARES      SERVIÇOS E TÉCNICAS GERAIS   \n",
       "2  21/08/2017    CCSJM  PARTICULARES      SERVIÇOS E TÉCNICAS GERAIS   \n",
       "3  18/12/2017     CCTV          ADSE     SERVIÇOS ESPECIAIS UROLOGIA   \n",
       "4  24/04/2017    CCSJM  PARTICULARES  SERVIÇOS ESPECIAIS CARDIOLOGIA   \n",
       "5  04/05/2017     HCIS          ADSE                      ENDOSCOPIA   \n",
       "6  29/05/2017      HCP  PARTICULARES                      ENDOSCOPIA   \n",
       "\n",
       "          Category_of_Service       Sex                          UniqueID  \\\n",
       "0            EXAMES ESPECIAIS  Feminino  91e9d2627cd4cc24958988333c4220a3   \n",
       "1            EXAMES ESPECIAIS  Feminino  91e9d2627cd4cc24958988333c4220a3   \n",
       "2  SERVIÇOS E TÉCNICAS GERAIS  Feminino  91e9d2627cd4cc24958988333c4220a3   \n",
       "3            EXAMES ESPECIAIS  Feminino  91e9d2627cd4cc24958988333c4220a3   \n",
       "4            EXAMES ESPECIAIS  Feminino  91e9d2627cd4cc24958988333c4220a3   \n",
       "5            EXAMES ESPECIAIS  Feminino  91e9d2627cd4cc24958988333c4220a3   \n",
       "6            EXAMES ESPECIAIS  Feminino  91e9d2627cd4cc24958988333c4220a3   \n",
       "\n",
       "    Age   HType HRegion  \n",
       "0  37.0   Large  Lisbon  \n",
       "1  37.0  Clinic   Porto  \n",
       "2  37.0  Clinic   Porto  \n",
       "3  37.0  Medium  Lisbon  \n",
       "4  37.0  Clinic   Porto  \n",
       "5  37.0   Large  Lisbon  \n",
       "6  37.0   Large   Porto  "
      ]
     },
     "execution_count": 23,
     "metadata": {},
     "output_type": "execute_result"
    }
   ],
   "source": [
    "# categorical grouping for hospitals based on region\n",
    "\n",
    "# define lists that group hospital by region\n",
    "lisbon = ['HCD', 'HCIS','CCC','CCA','CCB','CCTV','CCAL','CCSDR','CCMF','CCS','CCM']\n",
    "porto = ['HCP','ICDT','CCSJM']\n",
    "santarem = ['HCS']\n",
    "setubal = ['CLA']\n",
    "coimbra = ['CUFC']\n",
    "viseu = ['HCV']\n",
    "\n",
    "# create a new column (HRegion) that describes the region of the hospital \n",
    "df.loc[df['Hospital'].isin(lisbon),'HRegion'] = 'Lisbon'\n",
    "df.loc[df['Hospital'].isin(porto),'HRegion'] = 'Porto'\n",
    "df.loc[df['Hospital'].isin(santarem),'HRegion'] = 'Santarem'\n",
    "df.loc[df['Hospital'].isin(setubal),'HRegion'] = 'Sentubal'\n",
    "df.loc[df['Hospital'].isin(coimbra),'HRegion'] = 'Coimbra'\n",
    "df.loc[df['Hospital'].isin(viseu),'HRegion'] = 'Viseu'\n",
    "\n",
    "df.head(7)"
   ]
  },
  {
   "cell_type": "markdown",
   "metadata": {},
   "source": [
    "#### Payer"
   ]
  },
  {
   "cell_type": "code",
   "execution_count": 24,
   "metadata": {},
   "outputs": [
    {
     "data": {
      "text/html": [
       "<div>\n",
       "<style scoped>\n",
       "    .dataframe tbody tr th:only-of-type {\n",
       "        vertical-align: middle;\n",
       "    }\n",
       "\n",
       "    .dataframe tbody tr th {\n",
       "        vertical-align: top;\n",
       "    }\n",
       "\n",
       "    .dataframe thead th {\n",
       "        text-align: right;\n",
       "    }\n",
       "</style>\n",
       "<table border=\"1\" class=\"dataframe\">\n",
       "  <thead>\n",
       "    <tr style=\"text-align: right;\">\n",
       "      <th></th>\n",
       "      <th>Grupo EFR (payer)</th>\n",
       "      <th>Type of Payer</th>\n",
       "      <th>Type</th>\n",
       "    </tr>\n",
       "  </thead>\n",
       "  <tbody>\n",
       "    <tr>\n",
       "      <th>0</th>\n",
       "      <td>PARTICULARES</td>\n",
       "      <td>Out-of-Pocket</td>\n",
       "      <td>Out-of-Pocket</td>\n",
       "    </tr>\n",
       "    <tr>\n",
       "      <th>1</th>\n",
       "      <td>ADSE</td>\n",
       "      <td>State Healthcare Subsystem</td>\n",
       "      <td>State</td>\n",
       "    </tr>\n",
       "    <tr>\n",
       "      <th>2</th>\n",
       "      <td>MULTICARE</td>\n",
       "      <td>Private Insurance</td>\n",
       "      <td>Private</td>\n",
       "    </tr>\n",
       "  </tbody>\n",
       "</table>\n",
       "</div>"
      ],
      "text/plain": [
       "  Grupo EFR (payer)               Type of Payer           Type\n",
       "0      PARTICULARES               Out-of-Pocket  Out-of-Pocket\n",
       "1              ADSE  State Healthcare Subsystem          State\n",
       "2         MULTICARE           Private Insurance        Private"
      ]
     },
     "execution_count": 24,
     "metadata": {},
     "output_type": "execute_result"
    }
   ],
   "source": [
    "# read payer as a new dataframe\n",
    "payer = pd.read_excel('payer mapping.xlsx')\n",
    "payer.head(3)"
   ]
  },
  {
   "cell_type": "code",
   "execution_count": 25,
   "metadata": {},
   "outputs": [
    {
     "data": {
      "text/html": [
       "<div>\n",
       "<style scoped>\n",
       "    .dataframe tbody tr th:only-of-type {\n",
       "        vertical-align: middle;\n",
       "    }\n",
       "\n",
       "    .dataframe tbody tr th {\n",
       "        vertical-align: top;\n",
       "    }\n",
       "\n",
       "    .dataframe thead th {\n",
       "        text-align: right;\n",
       "    }\n",
       "</style>\n",
       "<table border=\"1\" class=\"dataframe\">\n",
       "  <thead>\n",
       "    <tr style=\"text-align: right;\">\n",
       "      <th></th>\n",
       "      <th>Date</th>\n",
       "      <th>Hospital</th>\n",
       "      <th>Payer</th>\n",
       "      <th>Specific_Service</th>\n",
       "      <th>Category_of_Service</th>\n",
       "      <th>Sex</th>\n",
       "      <th>UniqueID</th>\n",
       "      <th>Age</th>\n",
       "      <th>HType</th>\n",
       "      <th>HRegion</th>\n",
       "      <th>Insurance_Type</th>\n",
       "    </tr>\n",
       "  </thead>\n",
       "  <tbody>\n",
       "    <tr>\n",
       "      <th>0</th>\n",
       "      <td>14/09/2017</td>\n",
       "      <td>HCIS</td>\n",
       "      <td>ADSE</td>\n",
       "      <td>SERVIÇOS ESPECIAIS CARDIOLOGIA</td>\n",
       "      <td>EXAMES ESPECIAIS</td>\n",
       "      <td>Feminino</td>\n",
       "      <td>91e9d2627cd4cc24958988333c4220a3</td>\n",
       "      <td>37.0</td>\n",
       "      <td>Large</td>\n",
       "      <td>Lisbon</td>\n",
       "      <td>State</td>\n",
       "    </tr>\n",
       "    <tr>\n",
       "      <th>1</th>\n",
       "      <td>21/08/2017</td>\n",
       "      <td>CCSJM</td>\n",
       "      <td>PARTICULARES</td>\n",
       "      <td>SERVIÇOS E TÉCNICAS GERAIS</td>\n",
       "      <td>EXAMES ESPECIAIS</td>\n",
       "      <td>Feminino</td>\n",
       "      <td>91e9d2627cd4cc24958988333c4220a3</td>\n",
       "      <td>37.0</td>\n",
       "      <td>Clinic</td>\n",
       "      <td>Porto</td>\n",
       "      <td>Out-of-Pocket</td>\n",
       "    </tr>\n",
       "    <tr>\n",
       "      <th>2</th>\n",
       "      <td>21/08/2017</td>\n",
       "      <td>CCSJM</td>\n",
       "      <td>PARTICULARES</td>\n",
       "      <td>SERVIÇOS E TÉCNICAS GERAIS</td>\n",
       "      <td>SERVIÇOS E TÉCNICAS GERAIS</td>\n",
       "      <td>Feminino</td>\n",
       "      <td>91e9d2627cd4cc24958988333c4220a3</td>\n",
       "      <td>37.0</td>\n",
       "      <td>Clinic</td>\n",
       "      <td>Porto</td>\n",
       "      <td>Out-of-Pocket</td>\n",
       "    </tr>\n",
       "    <tr>\n",
       "      <th>3</th>\n",
       "      <td>18/12/2017</td>\n",
       "      <td>CCTV</td>\n",
       "      <td>ADSE</td>\n",
       "      <td>SERVIÇOS ESPECIAIS UROLOGIA</td>\n",
       "      <td>EXAMES ESPECIAIS</td>\n",
       "      <td>Feminino</td>\n",
       "      <td>91e9d2627cd4cc24958988333c4220a3</td>\n",
       "      <td>37.0</td>\n",
       "      <td>Medium</td>\n",
       "      <td>Lisbon</td>\n",
       "      <td>State</td>\n",
       "    </tr>\n",
       "    <tr>\n",
       "      <th>4</th>\n",
       "      <td>24/04/2017</td>\n",
       "      <td>CCSJM</td>\n",
       "      <td>PARTICULARES</td>\n",
       "      <td>SERVIÇOS ESPECIAIS CARDIOLOGIA</td>\n",
       "      <td>EXAMES ESPECIAIS</td>\n",
       "      <td>Feminino</td>\n",
       "      <td>91e9d2627cd4cc24958988333c4220a3</td>\n",
       "      <td>37.0</td>\n",
       "      <td>Clinic</td>\n",
       "      <td>Porto</td>\n",
       "      <td>Out-of-Pocket</td>\n",
       "    </tr>\n",
       "  </tbody>\n",
       "</table>\n",
       "</div>"
      ],
      "text/plain": [
       "         Date Hospital         Payer                Specific_Service  \\\n",
       "0  14/09/2017     HCIS          ADSE  SERVIÇOS ESPECIAIS CARDIOLOGIA   \n",
       "1  21/08/2017    CCSJM  PARTICULARES      SERVIÇOS E TÉCNICAS GERAIS   \n",
       "2  21/08/2017    CCSJM  PARTICULARES      SERVIÇOS E TÉCNICAS GERAIS   \n",
       "3  18/12/2017     CCTV          ADSE     SERVIÇOS ESPECIAIS UROLOGIA   \n",
       "4  24/04/2017    CCSJM  PARTICULARES  SERVIÇOS ESPECIAIS CARDIOLOGIA   \n",
       "\n",
       "          Category_of_Service       Sex                          UniqueID  \\\n",
       "0            EXAMES ESPECIAIS  Feminino  91e9d2627cd4cc24958988333c4220a3   \n",
       "1            EXAMES ESPECIAIS  Feminino  91e9d2627cd4cc24958988333c4220a3   \n",
       "2  SERVIÇOS E TÉCNICAS GERAIS  Feminino  91e9d2627cd4cc24958988333c4220a3   \n",
       "3            EXAMES ESPECIAIS  Feminino  91e9d2627cd4cc24958988333c4220a3   \n",
       "4            EXAMES ESPECIAIS  Feminino  91e9d2627cd4cc24958988333c4220a3   \n",
       "\n",
       "    Age   HType HRegion Insurance_Type  \n",
       "0  37.0   Large  Lisbon          State  \n",
       "1  37.0  Clinic   Porto  Out-of-Pocket  \n",
       "2  37.0  Clinic   Porto  Out-of-Pocket  \n",
       "3  37.0  Medium  Lisbon          State  \n",
       "4  37.0  Clinic   Porto  Out-of-Pocket  "
      ]
     },
     "execution_count": 25,
     "metadata": {},
     "output_type": "execute_result"
    }
   ],
   "source": [
    "# create a dictionary that maps each service to a severity\n",
    "payer_dict = dict(zip(payer['Grupo EFR (payer)'],payer['Type']))\n",
    "\n",
    "# add a new columns to the data frame (Insurance_Type)\n",
    "df['Insurance_Type'] = df['Payer'].map(payer_dict)\n",
    "df.head()"
   ]
  },
  {
   "cell_type": "markdown",
   "metadata": {},
   "source": [
    "###### Category of Service"
   ]
  },
  {
   "cell_type": "code",
   "execution_count": 27,
   "metadata": {},
   "outputs": [],
   "source": [
    "# categorical grouping for Category of Service\n",
    "\n",
    "# define lists of general service\n",
    "emergency = ['URGÊNCIAS']\n",
    "treatment = ['HOSPITAIS DE DIA','IMUNOHEMOTERAPIA','INTERNAMENTO','Internamento GDHS','MEDICINA DENTARIA',\n",
    "             'MEDICINA FISICA E REABILITAÇÃO','MEDICINA NUCLEAR','SERVIÇOS E TÉCNICAS GERAIS']\n",
    "examination = ['ANATOMIA PATOLÓGICA','CHECK-UP','EXAMES ESPECIAIS','GENETICA','IMAGIOLOGIA',\n",
    "               'PATOLOGIA CLINICA']\n",
    "appointment = ['CONSULTA EXTERNA']\n",
    "surgery = ['BLOCOS','CIRURGIAS','EQUIPA CIRURGICA','PACOTES']\n",
    "others = ['ARQUIVO','AVENÇAS','CONSUMOS','DIVERSOS','FARMACOS','missing']\n",
    "\n",
    "# create a new column (General_Service) that describes the type of service\n",
    "df.loc[df['Category_of_Service'].isin(emergency),'General_Service'] = 'Emergency'\n",
    "df.loc[df['Category_of_Service'].isin(treatment),'General_Service'] = 'Treatment'\n",
    "df.loc[df['Category_of_Service'].isin(examination),'General_Service'] = 'Examination'\n",
    "df.loc[df['Category_of_Service'].isin(appointment),'General_Service'] = 'Appointment'\n",
    "df.loc[df['Category_of_Service'].isin(surgery),'General_Service'] = 'Surgery'\n",
    "df.loc[df['Category_of_Service'].isin(others),'General_Service'] = 'Others'"
   ]
  },
  {
   "cell_type": "code",
   "execution_count": 28,
   "metadata": {},
   "outputs": [
    {
     "data": {
      "text/html": [
       "<div>\n",
       "<style scoped>\n",
       "    .dataframe tbody tr th:only-of-type {\n",
       "        vertical-align: middle;\n",
       "    }\n",
       "\n",
       "    .dataframe tbody tr th {\n",
       "        vertical-align: top;\n",
       "    }\n",
       "\n",
       "    .dataframe thead th {\n",
       "        text-align: right;\n",
       "    }\n",
       "</style>\n",
       "<table border=\"1\" class=\"dataframe\">\n",
       "  <thead>\n",
       "    <tr style=\"text-align: right;\">\n",
       "      <th></th>\n",
       "      <th>Date</th>\n",
       "      <th>Hospital</th>\n",
       "      <th>Payer</th>\n",
       "      <th>Specific_Service</th>\n",
       "      <th>Category_of_Service</th>\n",
       "      <th>Sex</th>\n",
       "      <th>UniqueID</th>\n",
       "      <th>Age</th>\n",
       "      <th>HType</th>\n",
       "      <th>HRegion</th>\n",
       "      <th>Insurance_Type</th>\n",
       "      <th>General_Service</th>\n",
       "    </tr>\n",
       "  </thead>\n",
       "  <tbody>\n",
       "    <tr>\n",
       "      <th>0</th>\n",
       "      <td>14/09/2017</td>\n",
       "      <td>HCIS</td>\n",
       "      <td>ADSE</td>\n",
       "      <td>SERVIÇOS ESPECIAIS CARDIOLOGIA</td>\n",
       "      <td>EXAMES ESPECIAIS</td>\n",
       "      <td>Feminino</td>\n",
       "      <td>91e9d2627cd4cc24958988333c4220a3</td>\n",
       "      <td>37.0</td>\n",
       "      <td>Large</td>\n",
       "      <td>Lisbon</td>\n",
       "      <td>State</td>\n",
       "      <td>Examination</td>\n",
       "    </tr>\n",
       "    <tr>\n",
       "      <th>1</th>\n",
       "      <td>21/08/2017</td>\n",
       "      <td>CCSJM</td>\n",
       "      <td>PARTICULARES</td>\n",
       "      <td>SERVIÇOS E TÉCNICAS GERAIS</td>\n",
       "      <td>EXAMES ESPECIAIS</td>\n",
       "      <td>Feminino</td>\n",
       "      <td>91e9d2627cd4cc24958988333c4220a3</td>\n",
       "      <td>37.0</td>\n",
       "      <td>Clinic</td>\n",
       "      <td>Porto</td>\n",
       "      <td>Out-of-Pocket</td>\n",
       "      <td>Examination</td>\n",
       "    </tr>\n",
       "    <tr>\n",
       "      <th>2</th>\n",
       "      <td>21/08/2017</td>\n",
       "      <td>CCSJM</td>\n",
       "      <td>PARTICULARES</td>\n",
       "      <td>SERVIÇOS E TÉCNICAS GERAIS</td>\n",
       "      <td>SERVIÇOS E TÉCNICAS GERAIS</td>\n",
       "      <td>Feminino</td>\n",
       "      <td>91e9d2627cd4cc24958988333c4220a3</td>\n",
       "      <td>37.0</td>\n",
       "      <td>Clinic</td>\n",
       "      <td>Porto</td>\n",
       "      <td>Out-of-Pocket</td>\n",
       "      <td>Treatment</td>\n",
       "    </tr>\n",
       "    <tr>\n",
       "      <th>3</th>\n",
       "      <td>18/12/2017</td>\n",
       "      <td>CCTV</td>\n",
       "      <td>ADSE</td>\n",
       "      <td>SERVIÇOS ESPECIAIS UROLOGIA</td>\n",
       "      <td>EXAMES ESPECIAIS</td>\n",
       "      <td>Feminino</td>\n",
       "      <td>91e9d2627cd4cc24958988333c4220a3</td>\n",
       "      <td>37.0</td>\n",
       "      <td>Medium</td>\n",
       "      <td>Lisbon</td>\n",
       "      <td>State</td>\n",
       "      <td>Examination</td>\n",
       "    </tr>\n",
       "    <tr>\n",
       "      <th>4</th>\n",
       "      <td>24/04/2017</td>\n",
       "      <td>CCSJM</td>\n",
       "      <td>PARTICULARES</td>\n",
       "      <td>SERVIÇOS ESPECIAIS CARDIOLOGIA</td>\n",
       "      <td>EXAMES ESPECIAIS</td>\n",
       "      <td>Feminino</td>\n",
       "      <td>91e9d2627cd4cc24958988333c4220a3</td>\n",
       "      <td>37.0</td>\n",
       "      <td>Clinic</td>\n",
       "      <td>Porto</td>\n",
       "      <td>Out-of-Pocket</td>\n",
       "      <td>Examination</td>\n",
       "    </tr>\n",
       "  </tbody>\n",
       "</table>\n",
       "</div>"
      ],
      "text/plain": [
       "         Date Hospital         Payer                Specific_Service  \\\n",
       "0  14/09/2017     HCIS          ADSE  SERVIÇOS ESPECIAIS CARDIOLOGIA   \n",
       "1  21/08/2017    CCSJM  PARTICULARES      SERVIÇOS E TÉCNICAS GERAIS   \n",
       "2  21/08/2017    CCSJM  PARTICULARES      SERVIÇOS E TÉCNICAS GERAIS   \n",
       "3  18/12/2017     CCTV          ADSE     SERVIÇOS ESPECIAIS UROLOGIA   \n",
       "4  24/04/2017    CCSJM  PARTICULARES  SERVIÇOS ESPECIAIS CARDIOLOGIA   \n",
       "\n",
       "          Category_of_Service       Sex                          UniqueID  \\\n",
       "0            EXAMES ESPECIAIS  Feminino  91e9d2627cd4cc24958988333c4220a3   \n",
       "1            EXAMES ESPECIAIS  Feminino  91e9d2627cd4cc24958988333c4220a3   \n",
       "2  SERVIÇOS E TÉCNICAS GERAIS  Feminino  91e9d2627cd4cc24958988333c4220a3   \n",
       "3            EXAMES ESPECIAIS  Feminino  91e9d2627cd4cc24958988333c4220a3   \n",
       "4            EXAMES ESPECIAIS  Feminino  91e9d2627cd4cc24958988333c4220a3   \n",
       "\n",
       "    Age   HType HRegion Insurance_Type General_Service  \n",
       "0  37.0   Large  Lisbon          State     Examination  \n",
       "1  37.0  Clinic   Porto  Out-of-Pocket     Examination  \n",
       "2  37.0  Clinic   Porto  Out-of-Pocket       Treatment  \n",
       "3  37.0  Medium  Lisbon          State     Examination  \n",
       "4  37.0  Clinic   Porto  Out-of-Pocket     Examination  "
      ]
     },
     "execution_count": 28,
     "metadata": {},
     "output_type": "execute_result"
    }
   ],
   "source": [
    "df.head(5)"
   ]
  },
  {
   "cell_type": "markdown",
   "metadata": {},
   "source": [
    "#### Clean Up Again"
   ]
  },
  {
   "cell_type": "code",
   "execution_count": 29,
   "metadata": {},
   "outputs": [
    {
     "data": {
      "text/plain": [
       "Date                   False\n",
       "Hospital               False\n",
       "Payer                  False\n",
       "Specific_Service       False\n",
       "Category_of_Service    False\n",
       "Sex                    False\n",
       "UniqueID               False\n",
       "Age                    False\n",
       "HType                  False\n",
       "HRegion                False\n",
       "Insurance_Type         False\n",
       "General_Service        False\n",
       "dtype: bool"
      ]
     },
     "execution_count": 29,
     "metadata": {},
     "output_type": "execute_result"
    }
   ],
   "source": [
    "# check for null values\n",
    "df.isnull().any()"
   ]
  },
  {
   "cell_type": "code",
   "execution_count": 37,
   "metadata": {},
   "outputs": [],
   "source": [
    "# convert all objects to categories to save space\n",
    "df['Sex'] = df['Sex'].astype('category')\n",
    "df['Hospital'] = df['Hospital'].astype('category')\n",
    "df['HType'] = df['HType'].astype('category')\n",
    "df['HRegion'] = df['HRegion'].astype('category')\n",
    "df['Insurance_Type'] = df['Insurance_Type'].astype('category')\n",
    "df['General_Service'] = df['General_Service'].astype('category')"
   ]
  },
  {
   "cell_type": "code",
   "execution_count": 38,
   "metadata": {},
   "outputs": [
    {
     "data": {
      "text/plain": [
       "(21921171, 12)"
      ]
     },
     "execution_count": 38,
     "metadata": {},
     "output_type": "execute_result"
    }
   ],
   "source": [
    "df.shape"
   ]
  },
  {
   "cell_type": "code",
   "execution_count": 39,
   "metadata": {},
   "outputs": [
    {
     "data": {
      "text/plain": [
       "0.007156560419674968"
      ]
     },
     "execution_count": 39,
     "metadata": {},
     "output_type": "execute_result"
    }
   ],
   "source": [
    "# Percentage of rows dropped\n",
    "(22079182 - 21921171)/22079182"
   ]
  },
  {
   "cell_type": "code",
   "execution_count": 40,
   "metadata": {},
   "outputs": [],
   "source": [
    "# create pickle file\n",
    "df.to_pickle('CleanedTransactionData.pkl')"
   ]
  },
  {
   "cell_type": "code",
   "execution_count": null,
   "metadata": {},
   "outputs": [],
   "source": []
  }
 ],
 "metadata": {
  "kernelspec": {
   "display_name": "Python 3",
   "language": "python",
   "name": "python3"
  },
  "language_info": {
   "codemirror_mode": {
    "name": "ipython",
    "version": 3
   },
   "file_extension": ".py",
   "mimetype": "text/x-python",
   "name": "python",
   "nbconvert_exporter": "python",
   "pygments_lexer": "ipython3",
   "version": "3.7.3"
  }
 },
 "nbformat": 4,
 "nbformat_minor": 2
}
